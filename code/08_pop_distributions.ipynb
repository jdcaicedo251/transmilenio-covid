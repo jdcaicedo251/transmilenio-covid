{
 "cells": [
  {
   "cell_type": "markdown",
   "metadata": {},
   "source": [
    "# Population distributions by strata \n",
    "\n",
    "Estimate population distributions by strata in Census (2018), and HTS (2019)"
   ]
  },
  {
   "cell_type": "code",
   "execution_count": 132,
   "metadata": {},
   "outputs": [],
   "source": [
    "import os\n",
    "import warnings\n",
    "warnings.filterwarnings('ignore')\n",
    "\n",
    "import pandas as pd\n",
    "import numpy as np\n",
    "import orca\n",
    "import matplotlib.pyplot as plt\n",
    "import geopandas as gpd"
   ]
  },
  {
   "cell_type": "markdown",
   "metadata": {},
   "source": [
    "## Household travel survey \n",
    "\n",
    "The objective of this section is obtain mode BRT users distrution be strata and walking access distance to a BRT statio to home location."
   ]
  },
  {
   "cell_type": "code",
   "execution_count": 151,
   "metadata": {},
   "outputs": [],
   "source": [
    "# Files \n",
    "path_to_files = '../data/input/hts2019/data_base/csv_files/'\n",
    "legs_path = 'EtapasEODH2019.csv'\n",
    "trips_path = 'ViajesEODH2019.csv'\n",
    "persons_path = 'PersonasEODH2019.csv'\n",
    "household_path = 'HogaresEODH2019.csv'\n",
    "vehicle_path = 'Veh°culosEODH2019.csv'\n",
    "\n",
    "households = pd.read_csv(path_to_files + household_path ,sep=',', index_col = 'Id_Hogar')\n",
    "persons = pd.read_csv(path_to_files + persons_path ,sep=',')\n",
    "trips = pd.read_csv(path_to_files + trips_path ,sep=';')\n",
    "legs = pd.read_csv(path_to_files + legs_path ,sep=';')"
   ]
  },
  {
   "cell_type": "code",
   "execution_count": 152,
   "metadata": {},
   "outputs": [],
   "source": [
    "# formating \n",
    "persons.id_hogar = persons.id_hogar.astype(str)\n",
    "persons.id_persona = persons.id_persona.astype(str)\n",
    "persons['id_person'] = persons.id_hogar + persons.id_persona\n",
    "persons.set_index('id_person', inplace = True)\n",
    "\n",
    "trips.id_hogar = trips.id_hogar.astype(str)\n",
    "trips.id_persona = trips.id_persona.astype(str)\n",
    "trips.id_viaje = trips.id_viaje.astype(str)\n",
    "trips['id_person'] = trips.id_hogar + trips.id_persona\n",
    "trips['id_trip'] = trips.id_hogar + trips.id_persona +  trips.id_viaje\n",
    "trips.set_index('id_trip', inplace = True)\n",
    "\n",
    "legs.id_hogar = legs.id_hogar.astype(str)\n",
    "legs.id_persona = legs.id_persona.astype(str)\n",
    "legs.id_viaje = legs.id_viaje.astype(str)\n",
    "legs.id_etapa = legs.id_etapa.astype(str)\n",
    "legs['id_person'] = legs.id_hogar + legs.id_persona\n",
    "legs['id_trip'] = legs.id_hogar + legs.id_persona +  legs.id_viaje\n",
    "legs['id_leg'] = legs.id_hogar + legs.id_persona +  legs.id_viaje + legs.id_etapa\n",
    "legs.set_index('id_leg', inplace = True)"
   ]
  },
  {
   "cell_type": "code",
   "execution_count": 153,
   "metadata": {},
   "outputs": [],
   "source": [
    "#Generate ORCA tables \n",
    "orca.add_table('households', households)\n",
    "orca.add_table('persons', persons)\n",
    "orca.add_table('trips', trips)\n",
    "orca.add_table('legs', legs);\n",
    "\n",
    "# pre-merge orca\n",
    "orca.broadcast(cast = 'households', onto = 'persons', cast_index = True, onto_on = 'id_hogar')\n",
    "orca.broadcast(cast = 'persons', onto = 'trips', cast_index = True, onto_on = 'id_person')\n",
    "orca.broadcast(cast = 'trips', onto = 'legs', cast_index = True, onto_on = 'id_trip')\n",
    "\n",
    "# Actual Merge \n",
    "trips_merge = orca.merge_tables(target = 'trips', tables = ['persons', 'households', 'trips'])"
   ]
  },
  {
   "cell_type": "code",
   "execution_count": 154,
   "metadata": {},
   "outputs": [],
   "source": [
    "# BRT mode\n",
    "trips_transmi = trips_merge[trips_merge.modo_principal == 'TransMilenio']"
   ]
  },
  {
   "cell_type": "markdown",
   "metadata": {},
   "source": [
    "### BRT users by strata distribution"
   ]
  },
  {
   "cell_type": "code",
   "execution_count": 142,
   "metadata": {},
   "outputs": [],
   "source": [
    "trips_transmi['p5_estrato'] = trips_transmi['p5_estrato'].fillna(0).astype(int)\n",
    "trips_transmi = trips_transmi[trips_transmi.p5_estrato != 0] #Drop nan or estrata 0 "
   ]
  },
  {
   "cell_type": "code",
   "execution_count": 143,
   "metadata": {},
   "outputs": [],
   "source": [
    "# Count users by strata \n",
    "strata_counts = trips_transmi.drop_duplicates(subset = 'id_person')['p5_estrato'].value_counts()"
   ]
  },
  {
   "cell_type": "code",
   "execution_count": 144,
   "metadata": {},
   "outputs": [
    {
     "data": {
      "text/plain": [
       "3    0.363586\n",
       "2    0.347265\n",
       "4    0.131231\n",
       "1    0.120313\n",
       "5    0.027239\n",
       "6    0.010366\n",
       "Name: p5_estrato, dtype: float64"
      ]
     },
     "execution_count": 144,
     "metadata": {},
     "output_type": "execute_result"
    }
   ],
   "source": [
    "#Caluclate probability distribution\n",
    "brt_by_strata = strata_counts/strata_counts.sum()\n",
    "brt_by_strata"
   ]
  },
  {
   "cell_type": "markdown",
   "metadata": {},
   "source": [
    "### Access and egress walking time distribution"
   ]
  },
  {
   "cell_type": "markdown",
   "metadata": {},
   "source": [
    "- p28_lugar_destino == 1 (home BRT station - egress time) \n",
    "- p28_lugar_origen == 1 (home BRT station home - access time)"
   ]
  },
  {
   "cell_type": "code",
   "execution_count": 145,
   "metadata": {},
   "outputs": [],
   "source": [
    "#Access and egress time\n",
    "mask_1 = trips_transmi.p28_lugar_destino == 1\n",
    "mask_2 = trips_transmi.lugar_origen == 1\n",
    "home_trips = trips_transmi[(mask_1)|(mask_2)]"
   ]
  },
  {
   "cell_type": "code",
   "execution_count": 146,
   "metadata": {},
   "outputs": [
    {
     "data": {
      "image/png": "[encoded data removed]",
      "text/plain": [
       "<Figure size 432x288 with 1 Axes>"
      ]
     },
     "metadata": {
      "needs_background": "light"
     },
     "output_type": "display_data"
    }
   ],
   "source": [
    "home_trips[['lugar_origen', 'p28_lugar_destino', 'p30_camino_minutos']].p30_camino_minutos.plot.hist(bins = 30)\n",
    "plt.xlabel('Minutes')\n",
    "plt.title('Walking time to/from home to/from BRT station');"
   ]
  },
  {
   "cell_type": "code",
   "execution_count": 112,
   "metadata": {},
   "outputs": [
    {
     "name": "stdout",
     "output_type": "stream",
     "text": [
      "0.9103027564392228\n"
     ]
    }
   ],
   "source": [
    "minutes = 20\n",
    "less_minutes = (home_trips[['lugar_origen', 'p28_lugar_destino', 'p30_camino_minutos']].p30_camino_minutos < minutes).sum()\n",
    "pct = less_minutes/len(home_trips)\n",
    "print (pct)"
   ]
  },
  {
   "cell_type": "markdown",
   "metadata": {},
   "source": [
    "90% of the respondents have a walking access/egress time of less than 20 minutes"
   ]
  },
  {
   "cell_type": "markdown",
   "metadata": {},
   "source": [
    "## CENSUS, 2018 \n",
    "\n",
    "Estimates the population strata distribution. CENSUS (2018)"
   ]
  },
  {
   "cell_type": "code",
   "execution_count": 114,
   "metadata": {},
   "outputs": [],
   "source": [
    "path_to_files = '../data/input/'\n",
    "pop = gpd.read_file(path_to_files + 'blocks_pop_2018/blocks_pop_2018.shp')"
   ]
  },
  {
   "cell_type": "code",
   "execution_count": 131,
   "metadata": {},
   "outputs": [
    {
     "data": {
      "text/plain": [
       "ESTRATO\n",
       "1    0.090261\n",
       "2    0.418021\n",
       "3    0.340074\n",
       "4    0.098446\n",
       "5    0.031054\n",
       "6    0.022144\n",
       "Name: TOTAL_PERS, dtype: float64"
      ]
     },
     "execution_count": 131,
     "metadata": {},
     "output_type": "execute_result"
    }
   ],
   "source": [
    "pop1 = pop[['ESTRATO', 'TOTAL_PERS']]\n",
    "pop1['TOTAL_PERS'] = pop['TOTAL_PERS'].fillna(0).astype(int)\n",
    "\n",
    "strata_counts_census = pop1[['ESTRATO', 'TOTAL_PERS']].groupby('ESTRATO')['TOTAL_PERS'].sum()\n",
    "\n",
    "#Caluclate probability distribution\n",
    "pop_by_strata = strata_counts_census/strata_counts_census.sum()\n",
    "pop_by_strata"
   ]
  }
 ],
 "metadata": {
  "kernelspec": {
   "display_name": "Python 3",
   "language": "python",
   "name": "python3"
  },
  "language_info": {
   "codemirror_mode": {
    "name": "ipython",
    "version": 3
   },
   "file_extension": ".py",
   "mimetype": "text/x-python",
   "name": "python",
   "nbconvert_exporter": "python",
   "pygments_lexer": "ipython3",
   "version": "3.8.2"
  }
 },
 "nbformat": 4,
 "nbformat_minor": 4
}
