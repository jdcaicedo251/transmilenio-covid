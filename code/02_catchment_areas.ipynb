{
 "cells": [
  {
   "cell_type": "markdown",
   "metadata": {},
   "source": [
    "# Catchment areas "
   ]
  },
  {
   "cell_type": "markdown",
   "metadata": {},
   "source": [
    "The objective of this notebook is to determine the catchment areas of the Transmilenio Stations \n",
    "\n",
    "What do they should include: \n",
    "- 1000 km buffer \n",
    "- Tiessen polygons when buffer are overlap \n",
    "- Include feeder routes catchment areas as well "
   ]
  },
  {
   "cell_type": "code",
   "execution_count": 1,
   "metadata": {},
   "outputs": [],
   "source": [
    "import os\n",
    "import warnings\n",
    "warnings.filterwarnings(\"ignore\")\n",
    "\n",
    "import pandas as pd\n",
    "import numpy as np\n",
    "import pandas.io.sql as sqlio\n",
    "from datetime import datetime\n",
    "import seaborn as sns\n",
    "import matplotlib.pyplot as plt\n",
    "import time\n",
    "import geopandas as gpd\n",
    "import geoplot\n",
    "from scipy.spatial import Voronoi, voronoi_plot_2d\n",
    "import shapely.geometry\n",
    "import shapely.ops\n",
    "\n",
    "import numpy as np\n",
    "import matplotlib.pyplot as plt\n",
    "from shapely.geometry import MultiPoint, Point, Polygon\n",
    "from scipy.spatial import Voronoi\n",
    "\n",
    "import numpy as np\n",
    "import matplotlib.pyplot as plt\n",
    "from shapely.geometry import MultiPoint, Point, Polygon\n",
    "from scipy.spatial import Voronoi\n",
    "from shapely import geometry\n",
    "from shapely.geometry import LineString\n",
    "\n",
    "import requests\n",
    "import pandas as pd\n",
    "import geopandas as gpd\n",
    "import numpy as np\n",
    "from shapely.geometry import LineString"
   ]
  },
  {
   "cell_type": "markdown",
   "metadata": {},
   "source": [
    "# Functions"
   ]
  },
  {
   "cell_type": "markdown",
   "metadata": {},
   "source": [
    "### General"
   ]
  },
  {
   "cell_type": "code",
   "execution_count": 2,
   "metadata": {},
   "outputs": [],
   "source": [
    "def plot_areas(gdf, title):\n",
    "    \n",
    "    fig, ax = plt.subplots(figsize=(20, 10))\n",
    "\n",
    "    gdf.plot(ax = ax)\n",
    "\n",
    "    x, y, arrow_length = 0.1, 0.9, 0.1\n",
    "    ax.annotate('N', xy=(x, y), xytext=(x, y-arrow_length),\n",
    "                arrowprops=dict(facecolor='black', width=5, headwidth=15),\n",
    "                ha='left', va='top', fontsize=20,\n",
    "                xycoords=ax.transAxes)\n",
    "\n",
    "    plt.title(title)\n",
    "    plt.axis('off');"
   ]
  },
  {
   "cell_type": "markdown",
   "metadata": {},
   "source": [
    "### BRT functions\n",
    "These buffers exclude transactions that are identified comming from feeder and inter-city services."
   ]
  },
  {
   "cell_type": "code",
   "execution_count": 30,
   "metadata": {},
   "outputs": [],
   "source": [
    "def create_buffer(stations, buffer_distance = 1800):\n",
    "    \"\"\" Creates a buffer for each point if the given biffer distance. It excludes feeder and inter-city buffers. \n",
    "        Input: \n",
    "        - stations: Geopandas dataframe. Each row is a point. crs = 'EPSG:3116'\n",
    "        - buffer_distance: float. Buffer distance in meters\n",
    "        Returns\n",
    "        - results: Geopandas dataframe, new geometry is the buffer\"\"\"\n",
    "        \n",
    "\n",
    "    gdf = stations[stations.entrance_type == 0]\n",
    "    gdf['buffer'] = gdf.geometry.buffer(buffer_distance)\n",
    "   \n",
    "    gdf = gdf.set_geometry('buffer')\n",
    "    gdf['unico'] = range(len(gdf))\n",
    "    return gdf"
   ]
  },
  {
   "cell_type": "markdown",
   "metadata": {},
   "source": [
    "### Voronoi functions\n",
    "- Build voronoi polygon. \n",
    "- Clipped them with convex_hull buffer to close open polygons \n",
    "- Transform polygons to shapely goemtry object \n",
    "- Create a geopandas dataframe"
   ]
  },
  {
   "cell_type": "code",
   "execution_count": 4,
   "metadata": {},
   "outputs": [],
   "source": [
    "def voronoi_finite_polygons_2d(vor, radius=None):\n",
    "    \"\"\"\n",
    "    Reconstruct infinite voronoi regions in a 2D diagram to finite\n",
    "    regions.\n",
    "    \n",
    "    Source: https://stackoverflow.com/questions/20515554/colorize-voronoi-diagram/20678647#20678647\n",
    "\n",
    "    Parameters\n",
    "    ----------\n",
    "    vor : Voronoi\n",
    "        Input diagram\n",
    "    radius : float, optional\n",
    "        Distance to 'points at infinity'.\n",
    "\n",
    "    Returns\n",
    "    -------\n",
    "    regions : list of tuples\n",
    "        Indices of vertices in each revised Voronoi regions.\n",
    "    vertices : list of tuples\n",
    "        Coordinates for revised Voronoi vertices. Same as coordinates\n",
    "        of input vertices, with 'points at infinity' appended to the\n",
    "        end.\n",
    "\n",
    "    \"\"\"\n",
    "\n",
    "    if vor.points.shape[1] != 2:\n",
    "        raise ValueError(\"Requires 2D input\")\n",
    "\n",
    "    new_regions = []\n",
    "    new_vertices = vor.vertices.tolist()\n",
    "\n",
    "    center = vor.points.mean(axis=0)\n",
    "    if radius is None:\n",
    "        radius = vor.points.ptp().max()\n",
    "\n",
    "    # Construct a map containing all ridges for a given point\n",
    "    all_ridges = {}\n",
    "    for (p1, p2), (v1, v2) in zip(vor.ridge_points, vor.ridge_vertices):\n",
    "        all_ridges.setdefault(p1, []).append((p2, v1, v2))\n",
    "        all_ridges.setdefault(p2, []).append((p1, v1, v2))\n",
    "\n",
    "    # Reconstruct infinite regions\n",
    "    for p1, region in enumerate(vor.point_region):\n",
    "        vertices = vor.regions[region]\n",
    "\n",
    "        if all(v >= 0 for v in vertices):\n",
    "            # finite region\n",
    "            new_regions.append(vertices)\n",
    "            continue\n",
    "\n",
    "        # reconstruct a non-finite region\n",
    "        ridges = all_ridges[p1]\n",
    "        new_region = [v for v in vertices if v >= 0]\n",
    "\n",
    "        for p2, v1, v2 in ridges:\n",
    "            if v2 < 0:\n",
    "                v1, v2 = v2, v1\n",
    "            if v1 >= 0:\n",
    "                # finite ridge: already in the region\n",
    "                continue\n",
    "\n",
    "            # Compute the missing endpoint of an infinite ridge\n",
    "\n",
    "            t = vor.points[p2] - vor.points[p1] # tangent\n",
    "            t /= np.linalg.norm(t)\n",
    "            n = np.array([-t[1], t[0]])  # normal\n",
    "\n",
    "            midpoint = vor.points[[p1, p2]].mean(axis=0)\n",
    "            direction = np.sign(np.dot(midpoint - center, n)) * n\n",
    "            far_point = vor.vertices[v2] + direction * radius\n",
    "\n",
    "            new_region.append(len(new_vertices))\n",
    "            new_vertices.append(far_point.tolist())\n",
    "\n",
    "        # sort region counterclockwise\n",
    "        vs = np.asarray([new_vertices[v] for v in new_region])\n",
    "        c = vs.mean(axis=0)\n",
    "        angles = np.arctan2(vs[:,1] - c[1], vs[:,0] - c[0])\n",
    "        new_region = np.array(new_region)[np.argsort(angles)]\n",
    "\n",
    "        # finish\n",
    "        new_regions.append(new_region.tolist())\n",
    "\n",
    "    return new_regions, np.asarray(new_vertices)"
   ]
  },
  {
   "cell_type": "code",
   "execution_count": 5,
   "metadata": {},
   "outputs": [],
   "source": [
    "def union(col1, col2):\n",
    "    '''Pair-waise union of polygons of two GeoSeries objects'''\n",
    "    \n",
    "    n = len(col1)\n",
    "    m = len(col2)\n",
    "    \n",
    "    #Assess two columns have the same lenght\n",
    "    assert n == m\n",
    "    \n",
    "    union_list = []\n",
    "    for i in range(n):\n",
    "        poly1, poly2 = col1[i], col2[i]\n",
    "        \n",
    "        if poly1 == None:\n",
    "            union_list.append(poly2)\n",
    "        elif poly2 == None:\n",
    "            union_list.append(poly1)\n",
    "        else: \n",
    "            union = shapely.ops.unary_union([poly1, poly2])\n",
    "            union_list.append(union)\n",
    "    \n",
    "    return gpd.GeoSeries(union_list)"
   ]
  },
  {
   "cell_type": "code",
   "execution_count": 6,
   "metadata": {},
   "outputs": [],
   "source": [
    "def create_voronoi_polygon(stations):\n",
    "    \"\"\"\n",
    "    \n",
    "    Voronoi polygon creation form: \n",
    "    #Source code for this: https://stackoverflow.com/questions/34968838/python-finite-boundary-voronoi-cells\n",
    "    \"\"\"\n",
    "    \n",
    "    points = np.array(stations[stations.entrance_type == 0][['longitude','latitude']])\n",
    "    assert len(points) == 151\n",
    "    \n",
    "    vor = Voronoi(points)\n",
    "    regions, vertices = voronoi_finite_polygons_2d(vor)\n",
    "    \n",
    "    #Voronoi polygon creation. \n",
    "    pts = MultiPoint([Point(i) for i in points])\n",
    "    mask = pts.convex_hull.buffer(0.1)\n",
    "    new_vertices = []\n",
    "    for region in regions:\n",
    "        polygon = vertices[region]\n",
    "        shape = list(polygon.shape)\n",
    "        shape[0] += 1\n",
    "        p = Polygon(np.append(polygon, polygon[0]).reshape(*shape)).intersection(mask)\n",
    "        poly = np.array(list(zip(p.boundary.coords.xy[0][:-1], p.boundary.coords.xy[1][:-1])))\n",
    "        new_vertices.append(poly)\n",
    "#         plt.fill(*zip(*poly), alpha=0.4)\n",
    "\n",
    "#     plt.plot(points[:,0], points[:,1], 'ko')\n",
    "#     plt.title(\"Clipped Voronois\")\n",
    "#     plt.show()\n",
    "        \n",
    "    #Building polygon shapely object \n",
    "    poly_list = []\n",
    "    for poly in new_vertices:\n",
    "        poly_list.append(geometry.Polygon(poly))\n",
    "\n",
    "    #Saving polygons in a geodataframe \n",
    "    voronoi = gpd.GeoDataFrame(poly_list)\n",
    "    voronoi.columns = ['geometry_voronoi']\n",
    "    voronoi = gpd.GeoDataFrame(voronoi, geometry = 'geometry_voronoi', crs = 'EPSG:4686')\n",
    "\n",
    "    #Project polygons to meters \n",
    "    voronoi = voronoi.to_crs('EPSG:3116')\n",
    "    \n",
    "    #Recover voronoi station_name \n",
    "    final_voronoi = gpd.sjoin(voronoi, stations[stations.entrance_type == 0], how = 'left', op = 'intersects')\n",
    "#     final_voronoi = final_voronoi.set_geometry('geometry_voronoi')\n",
    "    \n",
    "    return final_voronoi[['station_name', 'geometry_voronoi']]"
   ]
  },
  {
   "cell_type": "code",
   "execution_count": 7,
   "metadata": {},
   "outputs": [],
   "source": [
    "def clip_buffer_voronoi(buffers, voronoi):\n",
    "    merge_df = buffers.merge(voronoi, on = 'station_name')\n",
    "\n",
    "    overlays_list = []\n",
    "    for i in range(len(merge_df)):\n",
    "        buffer = gpd.GeoDataFrame(merge_df.iloc[i:i+1], geometry = 'buffer')\n",
    "        vor = gpd.GeoDataFrame(merge_df.iloc[i:i+1], geometry = 'geometry_voronoi')\n",
    "\n",
    "        try: \n",
    "            overlay = gpd.overlay(buffer, vor, how='intersection', )\n",
    "            overlays_list.append(overlay)\n",
    "        except AttributeError:\n",
    "            overlays_list.append(None)\n",
    "\n",
    "    #Concat resutls \n",
    "    areas = pd.concat(overlays_list, axis = 0)\n",
    "    areas.crs = 'EPSG:3116'\n",
    "    areas = areas.to_crs('EPSG:4686')\n",
    "    \n",
    "    \n",
    "    cols = ['station_name_1', 'geometry']\n",
    "\n",
    "    areas = areas[cols]\n",
    "    areas.columns = ['station_name', \"catchment_area\"]\n",
    "    \n",
    "    return areas.set_geometry('catchment_area')"
   ]
  },
  {
   "cell_type": "markdown",
   "metadata": {},
   "source": [
    "### Feeder functions"
   ]
  },
  {
   "cell_type": "code",
   "execution_count": 8,
   "metadata": {},
   "outputs": [],
   "source": [
    "def feeder_buffers_areas(feeder_routes, buffer_value = 500):\n",
    "    #Maps \"origen ruta zonal\" to id_station\n",
    "    stations_map = {'PORTAL NORTE':'(02000) Cabecera Autopista Norte - alimentacion', \n",
    "                    'PORTAL USME':'(09000) Cabecera Usme - alimentacion', \n",
    "                    'PORTAL 80':'(04000) Cabecera Calle 80 - alimentacion', \n",
    "                    'PORTAL EL DORADO':'(06000) Portal Eldorado - alimentacion',\n",
    "                    'PORTAL AMERICAS':'(05000) Portal Américas - alimentacion',\n",
    "                    'PORTAL TUNAL':'(08000) Portal Tunal - alimentacion', \n",
    "                    'BANDERAS':'(05100) Banderas P. Central - alimentacion', \n",
    "                    'PORTAL SUBA':'(03000) Portal Suba - alimentacion',\n",
    "                    'PORTAL 20 JULIO':'(10000) Portal 20 de Julio - alimentacion', \n",
    "                    'MOLINOS':'(50003) Corral Molinos', \n",
    "                    'GRANJA':'(50006) Corral Carrera 77', \n",
    "                    'PORTAL SUR':'(07000) Portal Sur - alimentacion',\n",
    "                    'CALLE 40 SUR':'(50002) Corral Calle 40 Sur', \n",
    "                    'GENERAL SANTANDER':'(07006) General Santander - alimentacion', \n",
    "                    'AV CALI':'(50004) Corral Avenida Ciudad de Cali'}\n",
    "\n",
    "    # Note: There is no information about feeder routes for \"Bicentenario\" station.\n",
    "    # Those observations will be deleted. \n",
    "\n",
    "    feeder_routes['station_name'] = feeder_routes.origen_rut.replace(stations_map)\n",
    "    \n",
    "    #Buffer around the feeder trayectory of 500 meters \n",
    "    feeder_routes['buffer'] = feeder_routes.geometry.buffer(buffer_value)\n",
    "    feeder_routes = feeder_routes.set_geometry('buffer')\n",
    "\n",
    "    #Disolve polygons that belong to the same final destination \n",
    "    feeder_routes = feeder_routes.dissolve(by='station_name').reset_index()\n",
    "    feeder_routes = feeder_routes.to_crs('EPSG:4686')\n",
    "    feeder_routes = feeder_routes[['station_name','buffer']]\n",
    "    \n",
    "    return feeder_routes"
   ]
  },
  {
   "cell_type": "code",
   "execution_count": 9,
   "metadata": {},
   "outputs": [],
   "source": [
    "def clip_feeder_area(feeder, brt):\n",
    "    #Desolve main area \n",
    "    brt_copy = brt.copy()\n",
    "    brt_copy['dissolve_dummy'] = 1\n",
    "    dissolved = brt_copy.dissolve('dissolve_dummy')['catchment_area'][1]\n",
    "\n",
    "    #Clipped each feeder buffer to main area\n",
    "    clipped_list = []\n",
    "    for polygon in feeder['buffer']:\n",
    "        clip = polygon.difference(dissolved)\n",
    "        clipped_list.append(clip)\n",
    "\n",
    "    #Replace shape with the clipped area \n",
    "    feeder['buffer'] = clipped_list\n",
    "    return feeder.rename(columns = {'buffer': \"catchment_area\"}).set_geometry(\"catchment_area\")"
   ]
  },
  {
   "cell_type": "code",
   "execution_count": 10,
   "metadata": {},
   "outputs": [],
   "source": [
    "def join_brt_feeder_catchment_areas(brt, feeder):\n",
    "    \n",
    "    catchment_areas = gpd.GeoDataFrame(pd.concat([brt, feeder]), \n",
    "                                       geometry = 'catchment_area')\n",
    "    \n",
    "    catchment_areas.crs = 'EPSG:4686'\n",
    "    return catchment_areas"
   ]
  },
  {
   "cell_type": "markdown",
   "metadata": {},
   "source": [
    "## Input files"
   ]
  },
  {
   "cell_type": "code",
   "execution_count": 11,
   "metadata": {},
   "outputs": [],
   "source": [
    "output_path = '../data/output/'\n",
    "input_path = '../data/input/'\n",
    "\n",
    "#Stations \n",
    "cols = ['station_name','latitude', 'longitude', 'entrance_type']\n",
    "stations = pd.read_csv(input_path + 'stations.csv')[cols] \\\n",
    "             .drop_duplicates(subset =  'station_name', keep = 'last')\n",
    "\n",
    "feeder_routes = gpd.read_file(input_path + 'feeder_routes/feeder_routes.shp')"
   ]
  },
  {
   "cell_type": "markdown",
   "metadata": {},
   "source": [
    "## Processing"
   ]
  },
  {
   "cell_type": "code",
   "execution_count": 31,
   "metadata": {},
   "outputs": [],
   "source": [
    "#Transform geometry column to geometry columns\n",
    "stations = gpd.GeoDataFrame(stations, \n",
    "                            geometry = gpd.points_from_xy(stations.longitude, stations.latitude), \n",
    "                            crs = 'EPSG:4686')\n",
    "\n",
    "#Project from degress to meters \n",
    "stations = stations.to_crs('EPSG:3116')"
   ]
  },
  {
   "cell_type": "markdown",
   "metadata": {},
   "source": [
    "### BRT station catchment areas "
   ]
  },
  {
   "cell_type": "code",
   "execution_count": 32,
   "metadata": {},
   "outputs": [],
   "source": [
    "#Creating buffers \n",
    "buffers = create_buffer(stations, buffer_distance = 1000)\n",
    "# plot_areas(buffers, 'Catchment areas BRT Stations - Bogota')"
   ]
  },
  {
   "cell_type": "code",
   "execution_count": 33,
   "metadata": {},
   "outputs": [],
   "source": [
    "#Create voronoi polygons\n",
    "voronoi = create_voronoi_polygon(stations)\n",
    "brt_catchment_areas = clip_buffer_voronoi(buffers, voronoi)\n",
    "# plot_areas(brt_catchment_areas, title = 'Catchment areas BRT Stations - Bogota')"
   ]
  },
  {
   "cell_type": "markdown",
   "metadata": {},
   "source": [
    "### Feeder catchment areas "
   ]
  },
  {
   "cell_type": "code",
   "execution_count": 34,
   "metadata": {},
   "outputs": [],
   "source": [
    "feeder_catchment_areas = feeder_buffers_areas(feeder_routes, buffer_value = 500)\n",
    "feeder_catchment_areas = clip_feeder_area(feeder_catchment_areas, brt_catchment_areas)\n",
    "\n",
    "catchment_areas = join_brt_feeder_catchment_areas(brt_catchment_areas, feeder_catchment_areas)"
   ]
  },
  {
   "cell_type": "markdown",
   "metadata": {},
   "source": [
    "### Join BRT and Feeder catchmen areas "
   ]
  },
  {
   "cell_type": "code",
   "execution_count": 35,
   "metadata": {},
   "outputs": [
    {
     "data": {
      "image/png": "[encoded data removed]",
      "text/plain": [
       "<Figure size 1440x720 with 1 Axes>"
      ]
     },
     "metadata": {
      "needs_background": "light"
     },
     "output_type": "display_data"
    }
   ],
   "source": [
    "catchment_areas = join_brt_feeder_catchment_areas(brt_catchment_areas, feeder_catchment_areas)\n",
    "plot_areas(catchment_areas, title = 'Catchment areas - Bogota')"
   ]
  },
  {
   "cell_type": "markdown",
   "metadata": {},
   "source": [
    "## Saving results"
   ]
  },
  {
   "cell_type": "code",
   "execution_count": 37,
   "metadata": {},
   "outputs": [],
   "source": [
    "catchment_areas\n",
    "catchment_areas.to_file(output_path + 'tables/catchment_areas')"
   ]
  },
  {
   "cell_type": "code",
   "execution_count": null,
   "metadata": {},
   "outputs": [],
   "source": []
  }
 ],
 "metadata": {
  "kernelspec": {
   "display_name": "Python 3",
   "language": "python",
   "name": "python3"
  },
  "language_info": {
   "codemirror_mode": {
    "name": "ipython",
    "version": 3
   },
   "file_extension": ".py",
   "mimetype": "text/x-python",
   "name": "python",
   "nbconvert_exporter": "python",
   "pygments_lexer": "ipython3",
   "version": "3.8.2"
  }
 },
 "nbformat": 4,
 "nbformat_minor": 4
}
