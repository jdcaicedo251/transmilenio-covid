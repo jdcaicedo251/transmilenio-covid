{
 "cells": [
  {
   "cell_type": "markdown",
   "metadata": {},
   "source": [
    "# O-D Estimation by stratum"
   ]
  },
  {
   "cell_type": "markdown",
   "metadata": {},
   "source": [
    "The objective of this notebook is to create O-D matrices by stratum, and the total O-D matrix. The goal is to select the origins-destination pairs with greater participation of strata 1 and 2, and the others O-Ds witht the greatest reduction of transactions in general (as a way to to from where to take the resources). "
   ]
  },
  {
   "cell_type": "code",
   "execution_count": 1,
   "metadata": {},
   "outputs": [],
   "source": [
    "import os\n",
    "import warnings\n",
    "warnings.filterwarnings('ignore')\n",
    "\n",
    "import pyspark as ps\n",
    "sc = ps.SparkContext(appName=\"odmatrix\")\n",
    "\n",
    "from pyspark.sql import * #This enables the SparkSession object\n",
    "spark = SparkSession.builder\\\n",
    "        .master(\"local\") \\\n",
    "        .appName(\"odmatrix\") \\\n",
    "        .getOrCreate()"
   ]
  },
  {
   "cell_type": "code",
   "execution_count": 2,
   "metadata": {},
   "outputs": [],
   "source": [
    "from os import path\n",
    "import time \n",
    "import random \n",
    "import pandas as pd \n",
    "import numpy as np \n",
    "import seaborn as sns\n",
    "import matplotlib.pyplot as plt\n",
    "import warnings\n",
    "import glob\n",
    "warnings.filterwarnings('ignore')\n",
    "\n",
    "from pyspark.sql.functions import *\n",
    "from pyspark.sql.functions import *\n",
    "from pyspark.sql.window import Window\n",
    "from pyspark.sql.functions import pow, col, sqrt"
   ]
  },
  {
   "cell_type": "markdown",
   "metadata": {},
   "source": [
    "## Input data "
   ]
  },
  {
   "cell_type": "code",
   "execution_count": 3,
   "metadata": {},
   "outputs": [],
   "source": [
    "output_path = '../data/output/'\n",
    "input_path = '../data/input/'\n",
    "\n",
    "transactions = spark.read.csv(output_path + 'tables/transactions_frequent_users.csv', header =True, sep = ',')\n",
    "hw_location = spark.read.csv(output_path + 'tables/hw_location.csv', header =True, sep = ',')\n",
    "probs = pd.read_csv(output_path + 'tables/stratum_probabilities.csv', parse_dates = ['date'],\n",
    "                    infer_datetime_format= True).drop(columns = 'total')"
   ]
  },
  {
   "cell_type": "markdown",
   "metadata": {},
   "source": [
    "## Data preprocessing"
   ]
  },
  {
   "cell_type": "code",
   "execution_count": 4,
   "metadata": {},
   "outputs": [],
   "source": [
    "def add_date(df, col_date = 'date', format_date = 'd/M/yy'):\n",
    "    \"\"\" Note: This is no longer needed. The format date in stratum is not consistent with pySpark. \n",
    "        Solution: Read probabilities as a dataframe and parse date (which gave good resutls) and then \n",
    "        transform pandas dataframe to pyspark\"\"\"\n",
    "    return df.withColumn(col_date,to_date(unix_timestamp(col(col_date),format_date).cast(\"timestamp\")))\n",
    "\n",
    "# stratum_probabilities = add_date(stratum_probabilities, col_date = 'date', format_date = 'd/M/yy')\n",
    "probs = spark.createDataFrame(probs)"
   ]
  },
  {
   "cell_type": "code",
   "execution_count": 5,
   "metadata": {},
   "outputs": [],
   "source": [
    "# s_path = '/Users/juandavidcaicedocastro/Dropbox/01_berkeley/17_phd/08_results/helper_tables/'\n",
    "# stations = spark.read.csv(s_path  + 'cleaned_stations.csv', header =True, sep = ',')"
   ]
  },
  {
   "cell_type": "markdown",
   "metadata": {},
   "source": [
    "#### Goals \n",
    "- Create H-W matrix and calculate aggregate travel time, with standard deviation \n",
    "- Create W-H matrix and calculate aggregate travel time, with standard deviation "
   ]
  },
  {
   "cell_type": "markdown",
   "metadata": {},
   "source": [
    "## Estimating matrices by the week instead "
   ]
  },
  {
   "cell_type": "markdown",
   "metadata": {},
   "source": [
    "### Data structure\n",
    "The week matrix is a data abstractions objectect that contains 28 matrixes per week. \n",
    "The hierarcy of the elemenet is as follows: \n",
    "\n",
    "week_matrix: A list of 2 elemenets. \n",
    "             Element 0 has the HOME-WORK matrix, and element 0 has the WORK-HOME matrix\n",
    "             \n",
    "HOME-WORK/WORK-HOME matrix: A list of 7 elements "
   ]
  },
  {
   "cell_type": "code",
   "execution_count": 6,
   "metadata": {},
   "outputs": [],
   "source": [
    "def time_format(df, date_col = 'fechatransaccion', time_col = \"horatransaccion\"):\n",
    "    ''' Returns dataframe with date and time as a timestamp format\n",
    "    Input: \n",
    "     - df: PySpark dataframe: Raw transactions\n",
    "     - date_col: str. Column name for date \n",
    "     - time_col: str. Column name for time\n",
    "     \n",
    "     Return: \n",
    "     PySpark dataframe. \n",
    "     Time col:\n",
    "     - timestamp: time in 'to_timestamp' format '''\n",
    "    # add time\n",
    "    df = df.withColumn(\"timestamp\",\n",
    "        to_timestamp(col(time_col),\"HH:mm:ss\"))\\\n",
    "        .withColumn(\"hour\", hour(col(\"timestamp\")))\\\n",
    "        .withColumn(\"minute\", minute(col(\"timestamp\")))\\\n",
    "        .withColumn(\"second\", second(col(\"timestamp\")))\\\n",
    "        .withColumn('time', col('hour') + col('minute')/60 + col('second')/3600)\n",
    "    \n",
    "    # add date\n",
    "    df = df.withColumn('date', to_date(unix_timestamp(col(date_col), 'yyyyMMdd').cast(\"timestamp\")))\n",
    "    return df"
   ]
  },
  {
   "cell_type": "code",
   "execution_count": 7,
   "metadata": {},
   "outputs": [],
   "source": [
    "def merge_probabilities(df, probs):\n",
    "    \"\"\"Join probaibility vectors to transactions data. \n",
    "    Note transactions data should already have H-W location joined \"\"\"\n",
    "    \n",
    "    cond = [df.home_station == probs.station_name, df.date == probs.date]\n",
    "    result = df.join(probs, cond, 'left').drop(probs.date).drop(probs.station_name)\n",
    "    return result"
   ]
  },
  {
   "cell_type": "code",
   "execution_count": 8,
   "metadata": {},
   "outputs": [],
   "source": [
    "def preprocessing_transactions(transactions, hw_location, probs):\n",
    "    \"\"\" Preprocess raw transactions data. The preprocessing includes\n",
    "         - transform date and time to datime format\n",
    "         - map shorter version of card ID \n",
    "         - add home and work location for each user \n",
    "         - merge stratum probabilities \n",
    "        \"\"\"\n",
    "    df = transactions.transform(lambda df: time_format(df))\\\n",
    "        .join(hw_location, on = 'card_id', how = 'inner')\\\n",
    "        .transform(lambda df: merge_probabilities(df, probs)) \n",
    "    \n",
    "    df = df#.drop('_c0')\n",
    "    return df"
   ]
  },
  {
   "cell_type": "code",
   "execution_count": 9,
   "metadata": {},
   "outputs": [],
   "source": [
    "def filter_dates(df, start , end):\n",
    "    return df.filter(col('date').between(start, end))"
   ]
  },
  {
   "cell_type": "code",
   "execution_count": 10,
   "metadata": {},
   "outputs": [],
   "source": [
    "def matrix_grouping(df, origin, destination):\n",
    "    \"\"\" Aggregates transactions by origin and destination \n",
    "        Input: \n",
    "        - df: PySpark dataframe. Transactions \n",
    "        - origin: str. Column name with origin station. ['home_station', 'work_station']\n",
    "        - destination: str. column name with destination station\"\"\"\n",
    "    \n",
    "    if origin == \"home_station\":\n",
    "        col_name = \"home_transactions\"\n",
    "    else:\n",
    "        col_name = \"work_transactions\"\n",
    "    \n",
    "    \n",
    "    grouping_dict = {'fechatransaccion':'count', 'time':'mean',\n",
    "                     'stratum1':'mean', 'stratum2':'mean', 'stratum3':'mean',\n",
    "                     'stratum4':'mean', 'stratum5':'mean', 'stratum6':'mean'}\n",
    "    \n",
    "    \n",
    "    od_df = df.withColumn(col_name, col(\"station_name\") == col(origin))\\\n",
    "              .filter(col(col_name) == True)\\\n",
    "              .groupBy([origin, destination, 'date'])\\\n",
    "              .agg(grouping_dict)\n",
    "    return od_df"
   ]
  },
  {
   "cell_type": "code",
   "execution_count": 11,
   "metadata": {},
   "outputs": [],
   "source": [
    "def day_of_week(week_matrix):\n",
    "    ''' Returns the day of the week. A number from 0 to 6\n",
    "        0 = Monday\n",
    "        1 = Tuesday\n",
    "        2 = Wednesday\n",
    "        3 = Thrusday\n",
    "        4 = Friday \n",
    "        5 = Saturday \n",
    "        6 = Sunday\n",
    "        week_matrix: This is a week_matrix format with a column that is called date'''\n",
    "    \n",
    "    for matrix in week_matrix:\n",
    "        matrix['date'] = pd.to_datetime(matrix.date)\n",
    "        matrix['day_of_week'] = matrix['date'].dt.dayofweek\n",
    "    return week_matrix"
   ]
  },
  {
   "cell_type": "code",
   "execution_count": 12,
   "metadata": {},
   "outputs": [],
   "source": [
    "def OD_aggregation_week(data, date_start, date_end):\n",
    "    ''' Creates HW and WH matrices for each day of the week, and store them in a list of list\n",
    "        This is the data week_matrix constructure\n",
    "        Input: \n",
    "        - data: pySpark DataFrane. Preprocessed data, as in preprocessing_transactions function \n",
    "        - start_date: \n",
    "        - end_date: \n",
    "        Output: OD elment with ['HOME_WORK', \"WORK_HOME\"]'''\n",
    "    \n",
    "    data = filter_dates(data, start = date_start, end = date_end)\n",
    "    \n",
    "    hw_data = matrix_grouping(data, \"home_station\", \"work_station\")\n",
    "    hw_data = hw_data.toPandas()\n",
    "    hw_data.rename(columns = {\"home_station\": \"origin\",\"work_station\":\"destination\",\n",
    "                              'count(fechatransaccion)':'transacction', 'avg(time)':'avg_travel_time',\n",
    "                              'avg(stratum1)': \"strata1\", 'avg(stratum4)': \"strata4\",\n",
    "                              'avg(stratum2)': \"strata2\", 'avg(stratum6)': \"strata6\",\n",
    "                              'avg(stratum3)': \"strata3\", 'avg(stratum5)': \"strata5\"}, inplace = True)\n",
    "    \n",
    "    wh_data = matrix_grouping(data, \"work_station\", \"home_station\")\n",
    "    wh_data = wh_data.toPandas()\n",
    "    wh_data.rename(columns = {\"work_station\":\"origin\", \"home_station\":\"destination\",\n",
    "                              'count(fechatransaccion)':'transacction', 'avg(time)':'avg_travel_time',\n",
    "                              'avg(stratum1)': \"strata1\", 'avg(stratum4)': \"strata4\",\n",
    "                              'avg(stratum2)': \"strata2\", 'avg(stratum6)': \"strata6\",\n",
    "                              'avg(stratum3)': \"strata3\", 'avg(stratum5)': \"strata5\"}, inplace = True)\n",
    "    \n",
    "    week_matrix = [hw_data, wh_data] \n",
    "    week_matrix = day_of_week(week_matrix)\n",
    "    return week_matrix"
   ]
  },
  {
   "cell_type": "code",
   "execution_count": 13,
   "metadata": {},
   "outputs": [],
   "source": [
    "def build_day_matrices(week_matrix_element):\n",
    "    \"\"\" Separates an element of OD matrix by the day of the week \n",
    "        Input:\n",
    "        - week_matrix_element: pandas DataFrame. \n",
    "    \"\"\"\n",
    "    day_matrix_list = []\n",
    "    for day in range(7): #7 days of the week (0-6)\n",
    "        day_matrix = week_matrix_element[week_matrix_element.day_of_week == day]\n",
    "        day_matrix_list.append(day_matrix)\n",
    "    return day_matrix_list"
   ]
  },
  {
   "cell_type": "code",
   "execution_count": 14,
   "metadata": {},
   "outputs": [],
   "source": [
    "def OD_aggregation_day(week_matrix):\n",
    "    \"\"\" Creates an OD matrix aggregated by the day\n",
    "        Input: \n",
    "        - week_matrix: Week_matrix object \"\"\"\n",
    "    od_day = []\n",
    "    for matrix in week_matrix: \n",
    "        od_day.append(build_day_matrices(matrix))\n",
    "        \n",
    "    return od_day"
   ]
  },
  {
   "cell_type": "code",
   "execution_count": 15,
   "metadata": {},
   "outputs": [],
   "source": [
    "def build_stratum_matrix(day_data, strata = ['strata1','strata2','strata3','strata4','strata5','strata6']):\n",
    "    ''' Returns one OD matrix that represents the stratum in strata\n",
    "        Eg. if strata = ['strata1','strata2'], it will generate a OD of strata 1 + strata 2'''\n",
    "    \n",
    "    day_data['pct'] = day_data[strata].sum(axis = 1)\n",
    "    day_data['stratum_transactions'] = day_data['transacction'] * day_data['pct']\n",
    "    \n",
    "#     matrices_list = []\n",
    "#     for stratum in stratum_transactions: \n",
    "#         od_matrix = pd.pivot_table(df, \n",
    "#                            values= stratum,\n",
    "#                            index=[origin],\n",
    "#                            columns=[destination], \n",
    "#                            aggfunc=np.sum)\n",
    "        \n",
    "#         matrices_list.append(od_matrix)\n",
    "    return day_data[['origin', 'destination', 'stratum_transactions']]"
   ]
  },
  {
   "cell_type": "code",
   "execution_count": 16,
   "metadata": {},
   "outputs": [],
   "source": [
    "def od_agg_stratum_(day_matrix, groups = [['strata1'], ['strata2'],\n",
    "                                          ['strata3'], ['strata4'],\n",
    "                                          ['strata5'], ['strata6']]):\n",
    "    stratum_matrix = []\n",
    "    for day in day_matrix:\n",
    "        g1 = build_stratum_matrix(day, strata = groups[0])\n",
    "        g2 = build_stratum_matrix(day, strata = groups[1])\n",
    "        g3 = build_stratum_matrix(day, strata = groups[2])\n",
    "        g4 = build_stratum_matrix(day, strata = groups[3])\n",
    "        g5 = build_stratum_matrix(day, strata = groups[4])\n",
    "        g6 = build_stratum_matrix(day, strata = groups[5])\n",
    "        stratum_matrix.append([g1, g2, g3, g4, g5, g6])\n",
    "    return stratum_matrix\n",
    "\n",
    "\n",
    "# def od_agg_stratum_(day_matrix, groups = [['strata1', 'strata2'], \n",
    "#                                          ['strata3', 'strata4','strata5', 'strata6']]):\n",
    "#     stratum_matrix = []\n",
    "#     for day in day_matrix:\n",
    "#         g1 = build_stratum_matrix(day, strata = groups[0])\n",
    "#         g2 = build_stratum_matrix(day, strata = groups[1])\n",
    "#         stratum_matrix.append([g1, g2])\n",
    "#     return stratum_matrix"
   ]
  },
  {
   "cell_type": "code",
   "execution_count": 17,
   "metadata": {},
   "outputs": [],
   "source": [
    "def od_agg_stratum(day_data, strata_group = [['strata1'], ['strata2'],\n",
    "                                             ['strata3'], ['strata4'],\n",
    "                                             ['strata5'], ['strata6']]):\n",
    "    \n",
    "    week_matrix_element = []\n",
    "    for day in day_data:\n",
    "        element = od_agg_stratum_(day, groups = strata_group )\n",
    "            \n",
    "        week_matrix_element.append(element)\n",
    "    return week_matrix_element"
   ]
  },
  {
   "cell_type": "code",
   "execution_count": 69,
   "metadata": {},
   "outputs": [
    {
     "name": "stdout",
     "output_type": "stream",
     "text": [
      "CPU times: user 1.42 s, sys: 304 ms, total: 1.73 s\n",
      "Wall time: 5min 25s\n"
     ]
    }
   ],
   "source": [
    "%%time\n",
    "df = preprocessing_transactions(transactions, hw_location, probs)\n",
    "week_matrix = OD_aggregation_week(df, date_start = '2020-04-06' ,  date_end = '2020-04-12')\n",
    "day_matrix = OD_aggregation_day(week_matrix)\n",
    "stratum_matrix = od_agg_stratum(day_matrix)"
   ]
  },
  {
   "cell_type": "code",
   "execution_count": 76,
   "metadata": {},
   "outputs": [
    {
     "data": {
      "text/html": [
       "<div>\n",
       "<style scoped>\n",
       "    .dataframe tbody tr th:only-of-type {\n",
       "        vertical-align: middle;\n",
       "    }\n",
       "\n",
       "    .dataframe tbody tr th {\n",
       "        vertical-align: top;\n",
       "    }\n",
       "\n",
       "    .dataframe thead th {\n",
       "        text-align: right;\n",
       "    }\n",
       "</style>\n",
       "<table border=\"1\" class=\"dataframe\">\n",
       "  <thead>\n",
       "    <tr style=\"text-align: right;\">\n",
       "      <th></th>\n",
       "      <th>origin</th>\n",
       "      <th>destination</th>\n",
       "      <th>stratum_transactions</th>\n",
       "    </tr>\n",
       "  </thead>\n",
       "  <tbody>\n",
       "    <tr>\n",
       "      <th>13</th>\n",
       "      <td>(09122) Calle 72</td>\n",
       "      <td>(03000) Portal Suba</td>\n",
       "      <td>7.074694</td>\n",
       "    </tr>\n",
       "    <tr>\n",
       "      <th>15</th>\n",
       "      <td>(07007) NQS - Calle 38A Sur</td>\n",
       "      <td>(02102) Calle 161</td>\n",
       "      <td>0.000000</td>\n",
       "    </tr>\n",
       "    <tr>\n",
       "      <th>35</th>\n",
       "      <td>(03011) SUBA - CALLE 100</td>\n",
       "      <td>(03002) SUBA - TV- 91</td>\n",
       "      <td>0.000000</td>\n",
       "    </tr>\n",
       "    <tr>\n",
       "      <th>39</th>\n",
       "      <td>(40001) Juan Pablo II</td>\n",
       "      <td>(09113) Calle 22</td>\n",
       "      <td>0.000000</td>\n",
       "    </tr>\n",
       "    <tr>\n",
       "      <th>49</th>\n",
       "      <td>(07000) Portal Sur - alimentacion</td>\n",
       "      <td>(05001) Patio Bonito</td>\n",
       "      <td>0.000000</td>\n",
       "    </tr>\n",
       "  </tbody>\n",
       "</table>\n",
       "</div>"
      ],
      "text/plain": [
       "                               origin            destination  \\\n",
       "13                   (09122) Calle 72    (03000) Portal Suba   \n",
       "15        (07007) NQS - Calle 38A Sur      (02102) Calle 161   \n",
       "35           (03011) SUBA - CALLE 100  (03002) SUBA - TV- 91   \n",
       "39              (40001) Juan Pablo II       (09113) Calle 22   \n",
       "49  (07000) Portal Sur - alimentacion   (05001) Patio Bonito   \n",
       "\n",
       "    stratum_transactions  \n",
       "13              7.074694  \n",
       "15              0.000000  \n",
       "35              0.000000  \n",
       "39              0.000000  \n",
       "49              0.000000  "
      ]
     },
     "execution_count": 76,
     "metadata": {},
     "output_type": "execute_result"
    }
   ],
   "source": [
    "stratum_matrix[0][0][5].head()"
   ]
  },
  {
   "cell_type": "markdown",
   "metadata": {},
   "source": [
    "## Getting matrix element before and after the pandemic \n",
    "\n",
    "Selected weeks:\n",
    "- February 17, 2020 - February 23, 2020 (PRE-COVID)\n",
    "- October 5, 2020 - October 11, 2020"
   ]
  },
  {
   "cell_type": "code",
   "execution_count": 18,
   "metadata": {},
   "outputs": [
    {
     "name": "stdout",
     "output_type": "stream",
     "text": [
      "CPU times: user 2.45 s, sys: 255 ms, total: 2.7 s\n",
      "Wall time: 6min 55s\n"
     ]
    }
   ],
   "source": [
    "%%time\n",
    "df = preprocessing_transactions(transactions, hw_location, probs)\n",
    "bs_week_matrix = OD_aggregation_week(df, date_start = '2020-02-17' ,  date_end = '2020-02-23')\n",
    "bs_day_matrix = OD_aggregation_day(bs_week_matrix)\n",
    "bs_stratum_matrix = od_agg_stratum(bs_day_matrix)"
   ]
  },
  {
   "cell_type": "code",
   "execution_count": 19,
   "metadata": {},
   "outputs": [
    {
     "name": "stdout",
     "output_type": "stream",
     "text": [
      "CPU times: user 1.79 s, sys: 142 ms, total: 1.93 s\n",
      "Wall time: 5min 26s\n"
     ]
    }
   ],
   "source": [
    "%%time\n",
    "post_week_matrix = OD_aggregation_week(df, date_start = '2020-10-05' ,  date_end = '2020-10-11')\n",
    "post_day_matrix = OD_aggregation_day(post_week_matrix)\n",
    "post_stratum_matrix = od_agg_stratum(post_day_matrix)"
   ]
  },
  {
   "cell_type": "code",
   "execution_count": 86,
   "metadata": {},
   "outputs": [
    {
     "data": {
      "text/html": [
       "<div>\n",
       "<style scoped>\n",
       "    .dataframe tbody tr th:only-of-type {\n",
       "        vertical-align: middle;\n",
       "    }\n",
       "\n",
       "    .dataframe tbody tr th {\n",
       "        vertical-align: top;\n",
       "    }\n",
       "\n",
       "    .dataframe thead th {\n",
       "        text-align: right;\n",
       "    }\n",
       "</style>\n",
       "<table border=\"1\" class=\"dataframe\">\n",
       "  <thead>\n",
       "    <tr style=\"text-align: right;\">\n",
       "      <th></th>\n",
       "      <th>origin</th>\n",
       "      <th>destination</th>\n",
       "      <th>stratum_transactions</th>\n",
       "    </tr>\n",
       "  </thead>\n",
       "  <tbody>\n",
       "    <tr>\n",
       "      <th>2</th>\n",
       "      <td>(04001) Quirigua</td>\n",
       "      <td>(05100) Banderas P. Central - alimentacion</td>\n",
       "      <td>0.000000</td>\n",
       "    </tr>\n",
       "    <tr>\n",
       "      <th>10</th>\n",
       "      <td>(10003) Ciudad Jardín</td>\n",
       "      <td>(02201) Prado</td>\n",
       "      <td>0.000000</td>\n",
       "    </tr>\n",
       "    <tr>\n",
       "      <th>16</th>\n",
       "      <td>(06000) Portal Eldorado</td>\n",
       "      <td>(14001) La Sabana</td>\n",
       "      <td>0.000000</td>\n",
       "    </tr>\n",
       "    <tr>\n",
       "      <th>17</th>\n",
       "      <td>(06000) Portal Eldorado</td>\n",
       "      <td>(12007) Zona Industrial</td>\n",
       "      <td>0.000000</td>\n",
       "    </tr>\n",
       "    <tr>\n",
       "      <th>67</th>\n",
       "      <td>(02304) Heroes</td>\n",
       "      <td>(07008) NQS - Calle 30 Sur</td>\n",
       "      <td>12.409180</td>\n",
       "    </tr>\n",
       "    <tr>\n",
       "      <th>...</th>\n",
       "      <td>...</td>\n",
       "      <td>...</td>\n",
       "      <td>...</td>\n",
       "    </tr>\n",
       "    <tr>\n",
       "      <th>164349</th>\n",
       "      <td>(07101) CASTELLANA</td>\n",
       "      <td>(02502) Terminal</td>\n",
       "      <td>0.000000</td>\n",
       "    </tr>\n",
       "    <tr>\n",
       "      <th>164354</th>\n",
       "      <td>(07105) MOVISTAR ARENA</td>\n",
       "      <td>(40003) Mirador del Paraiso</td>\n",
       "      <td>0.280794</td>\n",
       "    </tr>\n",
       "    <tr>\n",
       "      <th>164355</th>\n",
       "      <td>(07010) Bosa</td>\n",
       "      <td>(03005) SUBA - AV. BOYACA</td>\n",
       "      <td>0.000000</td>\n",
       "    </tr>\n",
       "    <tr>\n",
       "      <th>164368</th>\n",
       "      <td>(04108) El Polo</td>\n",
       "      <td>(03001) LA CAMPIÑA</td>\n",
       "      <td>0.000000</td>\n",
       "    </tr>\n",
       "    <tr>\n",
       "      <th>164369</th>\n",
       "      <td>(50003) Corral Molinos</td>\n",
       "      <td>(05002) Tintal</td>\n",
       "      <td>0.000000</td>\n",
       "    </tr>\n",
       "  </tbody>\n",
       "</table>\n",
       "<p>24857 rows × 3 columns</p>\n",
       "</div>"
      ],
      "text/plain": [
       "                         origin                                 destination  \\\n",
       "2              (04001) Quirigua  (05100) Banderas P. Central - alimentacion   \n",
       "10        (10003) Ciudad Jardín                               (02201) Prado   \n",
       "16      (06000) Portal Eldorado                           (14001) La Sabana   \n",
       "17      (06000) Portal Eldorado                     (12007) Zona Industrial   \n",
       "67               (02304) Heroes                  (07008) NQS - Calle 30 Sur   \n",
       "...                         ...                                         ...   \n",
       "164349       (07101) CASTELLANA                            (02502) Terminal   \n",
       "164354   (07105) MOVISTAR ARENA                 (40003) Mirador del Paraiso   \n",
       "164355             (07010) Bosa                   (03005) SUBA - AV. BOYACA   \n",
       "164368          (04108) El Polo                          (03001) LA CAMPIÑA   \n",
       "164369   (50003) Corral Molinos                              (05002) Tintal   \n",
       "\n",
       "        stratum_transactions  \n",
       "2                   0.000000  \n",
       "10                  0.000000  \n",
       "16                  0.000000  \n",
       "17                  0.000000  \n",
       "67                 12.409180  \n",
       "...                      ...  \n",
       "164349              0.000000  \n",
       "164354              0.280794  \n",
       "164355              0.000000  \n",
       "164368              0.000000  \n",
       "164369              0.000000  \n",
       "\n",
       "[24857 rows x 3 columns]"
      ]
     },
     "execution_count": 86,
     "metadata": {},
     "output_type": "execute_result"
    }
   ],
   "source": [
    "bs_stratum_matrix[0][0][4]"
   ]
  },
  {
   "cell_type": "markdown",
   "metadata": {},
   "source": [
    "## Analysis "
   ]
  },
  {
   "cell_type": "markdown",
   "metadata": {},
   "source": [
    "[H/W][Day][Stratum]"
   ]
  },
  {
   "cell_type": "code",
   "execution_count": 106,
   "metadata": {
    "scrolled": false
   },
   "outputs": [
    {
     "data": {
      "text/plain": [
       "<matplotlib.axes._subplots.AxesSubplot at 0x7f89a27c8df0>"
      ]
     },
     "execution_count": 106,
     "metadata": {},
     "output_type": "execute_result"
    },
    {
     "data": {
      "image/png": "[encoded data removed]",
      "text/plain": [
       "<Figure size 432x288 with 1 Axes>"
      ]
     },
     "metadata": {
      "needs_background": "light"
     },
     "output_type": "display_data"
    }
   ],
   "source": [
    "# Top ten (+ -) by stratum\n",
    "a = bs_stratum_matrix[0][0][0].sort_values('stratum_transactions', ascending = False).round(0)#.head(50)\n",
    "a = a[a.stratum_transactions > 0]\n",
    "a['stratum_transactions'].hist(bins = 100)"
   ]
  },
  {
   "cell_type": "code",
   "execution_count": 158,
   "metadata": {},
   "outputs": [
    {
     "data": {
      "text/html": [
       "<div>\n",
       "<style scoped>\n",
       "    .dataframe tbody tr th:only-of-type {\n",
       "        vertical-align: middle;\n",
       "    }\n",
       "\n",
       "    .dataframe tbody tr th {\n",
       "        vertical-align: top;\n",
       "    }\n",
       "\n",
       "    .dataframe thead th {\n",
       "        text-align: right;\n",
       "    }\n",
       "</style>\n",
       "<table border=\"1\" class=\"dataframe\">\n",
       "  <thead>\n",
       "    <tr style=\"text-align: right;\">\n",
       "      <th></th>\n",
       "      <th>origin</th>\n",
       "      <th>destination</th>\n",
       "      <th>stratum_transactions</th>\n",
       "    </tr>\n",
       "  </thead>\n",
       "  <tbody>\n",
       "    <tr>\n",
       "      <th>66624</th>\n",
       "      <td>(40003) Mirador del Paraiso</td>\n",
       "      <td>(08000) Portal Tunal</td>\n",
       "      <td>1383.0</td>\n",
       "    </tr>\n",
       "    <tr>\n",
       "      <th>63382</th>\n",
       "      <td>(08000) Portal Tunal - alimentacion</td>\n",
       "      <td>(09110) Avenida Jimenez</td>\n",
       "      <td>859.0</td>\n",
       "    </tr>\n",
       "    <tr>\n",
       "      <th>7378</th>\n",
       "      <td>(09000) Cabecera Usme - alimentacion</td>\n",
       "      <td>(09000) Cabecera Usme</td>\n",
       "      <td>790.0</td>\n",
       "    </tr>\n",
       "    <tr>\n",
       "      <th>136339</th>\n",
       "      <td>(08000) Portal Tunal - alimentacion</td>\n",
       "      <td>(09118) Marly</td>\n",
       "      <td>788.0</td>\n",
       "    </tr>\n",
       "    <tr>\n",
       "      <th>83817</th>\n",
       "      <td>(08000) Portal Tunal - alimentacion</td>\n",
       "      <td>(09120) Calle 63</td>\n",
       "      <td>759.0</td>\n",
       "    </tr>\n",
       "    <tr>\n",
       "      <th>...</th>\n",
       "      <td>...</td>\n",
       "      <td>...</td>\n",
       "      <td>...</td>\n",
       "    </tr>\n",
       "    <tr>\n",
       "      <th>72262</th>\n",
       "      <td>(09118) Marly</td>\n",
       "      <td>(03003) 21 ANGELES</td>\n",
       "      <td>1.0</td>\n",
       "    </tr>\n",
       "    <tr>\n",
       "      <th>36879</th>\n",
       "      <td>(09118) Marly</td>\n",
       "      <td>(04107) Escuela Militar</td>\n",
       "      <td>1.0</td>\n",
       "    </tr>\n",
       "    <tr>\n",
       "      <th>103490</th>\n",
       "      <td>(09118) Marly</td>\n",
       "      <td>(14001) La Sabana</td>\n",
       "      <td>1.0</td>\n",
       "    </tr>\n",
       "    <tr>\n",
       "      <th>138765</th>\n",
       "      <td>(09118) Marly</td>\n",
       "      <td>(10006) San Victorino</td>\n",
       "      <td>1.0</td>\n",
       "    </tr>\n",
       "    <tr>\n",
       "      <th>108883</th>\n",
       "      <td>(09116) Avenida 39</td>\n",
       "      <td>(14005) Las Aguas</td>\n",
       "      <td>1.0</td>\n",
       "    </tr>\n",
       "  </tbody>\n",
       "</table>\n",
       "<p>2996 rows × 3 columns</p>\n",
       "</div>"
      ],
      "text/plain": [
       "                                      origin              destination  \\\n",
       "66624            (40003) Mirador del Paraiso     (08000) Portal Tunal   \n",
       "63382    (08000) Portal Tunal - alimentacion  (09110) Avenida Jimenez   \n",
       "7378    (09000) Cabecera Usme - alimentacion    (09000) Cabecera Usme   \n",
       "136339   (08000) Portal Tunal - alimentacion            (09118) Marly   \n",
       "83817    (08000) Portal Tunal - alimentacion         (09120) Calle 63   \n",
       "...                                      ...                      ...   \n",
       "72262                          (09118) Marly       (03003) 21 ANGELES   \n",
       "36879                          (09118) Marly  (04107) Escuela Militar   \n",
       "103490                         (09118) Marly        (14001) La Sabana   \n",
       "138765                         (09118) Marly    (10006) San Victorino   \n",
       "108883                    (09116) Avenida 39        (14005) Las Aguas   \n",
       "\n",
       "        stratum_transactions  \n",
       "66624                 1383.0  \n",
       "63382                  859.0  \n",
       "7378                   790.0  \n",
       "136339                 788.0  \n",
       "83817                  759.0  \n",
       "...                      ...  \n",
       "72262                    1.0  \n",
       "36879                    1.0  \n",
       "103490                   1.0  \n",
       "138765                   1.0  \n",
       "108883                   1.0  \n",
       "\n",
       "[2996 rows x 3 columns]"
      ]
     },
     "execution_count": 158,
     "metadata": {},
     "output_type": "execute_result"
    }
   ],
   "source": [
    "a"
   ]
  },
  {
   "cell_type": "code",
   "execution_count": 111,
   "metadata": {},
   "outputs": [
    {
     "data": {
      "text/plain": [
       "62597.0"
      ]
     },
     "execution_count": 111,
     "metadata": {},
     "output_type": "execute_result"
    }
   ],
   "source": [
    "hw_s1 = a.stratum_transactions.sum()\n",
    "hw_s1 "
   ]
  },
  {
   "cell_type": "code",
   "execution_count": 157,
   "metadata": {},
   "outputs": [
    {
     "data": {
      "text/plain": [
       "50077.600000000006"
      ]
     },
     "execution_count": 157,
     "metadata": {},
     "output_type": "execute_result"
    }
   ],
   "source": [
    "hw_s1 *.8"
   ]
  },
  {
   "cell_type": "code",
   "execution_count": 120,
   "metadata": {},
   "outputs": [
    {
     "data": {
      "text/plain": [
       "0.8009489272648849"
      ]
     },
     "execution_count": 120,
     "metadata": {},
     "output_type": "execute_result"
    }
   ],
   "source": [
    "remain_s1 = a[a.stratum_transactions > 20].stratum_transactions.sum()\n",
    "remain_s1/hw_s1 "
   ]
  },
  {
   "cell_type": "code",
   "execution_count": 148,
   "metadata": {},
   "outputs": [
    {
     "data": {
      "text/plain": [
       "0.800277968592744"
      ]
     },
     "execution_count": 148,
     "metadata": {},
     "output_type": "execute_result"
    }
   ],
   "source": [
    "top = a.head(542).stratum_transactions.sum()\n",
    "top/hw_s1"
   ]
  },
  {
   "cell_type": "code",
   "execution_count": 150,
   "metadata": {},
   "outputs": [],
   "source": [
    "top80pct = a.head(542)"
   ]
  },
  {
   "cell_type": "code",
   "execution_count": 155,
   "metadata": {},
   "outputs": [
    {
     "data": {
      "text/plain": [
       "19"
      ]
     },
     "execution_count": 155,
     "metadata": {},
     "output_type": "execute_result"
    }
   ],
   "source": [
    "len(top80pct.origin.unique())"
   ]
  },
  {
   "cell_type": "code",
   "execution_count": 156,
   "metadata": {},
   "outputs": [
    {
     "data": {
      "text/html": [
       "<div>\n",
       "<style scoped>\n",
       "    .dataframe tbody tr th:only-of-type {\n",
       "        vertical-align: middle;\n",
       "    }\n",
       "\n",
       "    .dataframe tbody tr th {\n",
       "        vertical-align: top;\n",
       "    }\n",
       "\n",
       "    .dataframe thead th {\n",
       "        text-align: right;\n",
       "    }\n",
       "</style>\n",
       "<table border=\"1\" class=\"dataframe\">\n",
       "  <thead>\n",
       "    <tr style=\"text-align: right;\">\n",
       "      <th></th>\n",
       "      <th>origin</th>\n",
       "      <th>destination</th>\n",
       "      <th>stratum_transactions</th>\n",
       "    </tr>\n",
       "  </thead>\n",
       "  <tbody>\n",
       "    <tr>\n",
       "      <th>66624</th>\n",
       "      <td>(40003) Mirador del Paraiso</td>\n",
       "      <td>(08000) Portal Tunal</td>\n",
       "      <td>1383.0</td>\n",
       "    </tr>\n",
       "    <tr>\n",
       "      <th>63382</th>\n",
       "      <td>(08000) Portal Tunal - alimentacion</td>\n",
       "      <td>(09110) Avenida Jimenez</td>\n",
       "      <td>859.0</td>\n",
       "    </tr>\n",
       "    <tr>\n",
       "      <th>7378</th>\n",
       "      <td>(09000) Cabecera Usme - alimentacion</td>\n",
       "      <td>(09000) Cabecera Usme</td>\n",
       "      <td>790.0</td>\n",
       "    </tr>\n",
       "    <tr>\n",
       "      <th>136339</th>\n",
       "      <td>(08000) Portal Tunal - alimentacion</td>\n",
       "      <td>(09118) Marly</td>\n",
       "      <td>788.0</td>\n",
       "    </tr>\n",
       "    <tr>\n",
       "      <th>83817</th>\n",
       "      <td>(08000) Portal Tunal - alimentacion</td>\n",
       "      <td>(09120) Calle 63</td>\n",
       "      <td>759.0</td>\n",
       "    </tr>\n",
       "    <tr>\n",
       "      <th>...</th>\n",
       "      <td>...</td>\n",
       "      <td>...</td>\n",
       "      <td>...</td>\n",
       "    </tr>\n",
       "    <tr>\n",
       "      <th>13905</th>\n",
       "      <td>(09000) Cabecera Usme - alimentacion</td>\n",
       "      <td>(10007) Las Nieves</td>\n",
       "      <td>21.0</td>\n",
       "    </tr>\n",
       "    <tr>\n",
       "      <th>132541</th>\n",
       "      <td>(40002) Manitas</td>\n",
       "      <td>(06000) Portal Eldorado - alimentacion</td>\n",
       "      <td>21.0</td>\n",
       "    </tr>\n",
       "    <tr>\n",
       "      <th>24006</th>\n",
       "      <td>(40002) Manitas</td>\n",
       "      <td>(09119) Calle 57</td>\n",
       "      <td>21.0</td>\n",
       "    </tr>\n",
       "    <tr>\n",
       "      <th>108459</th>\n",
       "      <td>(08000) Portal Tunal - alimentacion</td>\n",
       "      <td>(10000) Portal 20 de Julio</td>\n",
       "      <td>21.0</td>\n",
       "    </tr>\n",
       "    <tr>\n",
       "      <th>19495</th>\n",
       "      <td>(09000) Cabecera Usme</td>\n",
       "      <td>(07105) MOVISTAR ARENA</td>\n",
       "      <td>21.0</td>\n",
       "    </tr>\n",
       "  </tbody>\n",
       "</table>\n",
       "<p>542 rows × 3 columns</p>\n",
       "</div>"
      ],
      "text/plain": [
       "                                      origin  \\\n",
       "66624            (40003) Mirador del Paraiso   \n",
       "63382    (08000) Portal Tunal - alimentacion   \n",
       "7378    (09000) Cabecera Usme - alimentacion   \n",
       "136339   (08000) Portal Tunal - alimentacion   \n",
       "83817    (08000) Portal Tunal - alimentacion   \n",
       "...                                      ...   \n",
       "13905   (09000) Cabecera Usme - alimentacion   \n",
       "132541                       (40002) Manitas   \n",
       "24006                        (40002) Manitas   \n",
       "108459   (08000) Portal Tunal - alimentacion   \n",
       "19495                  (09000) Cabecera Usme   \n",
       "\n",
       "                                   destination  stratum_transactions  \n",
       "66624                     (08000) Portal Tunal                1383.0  \n",
       "63382                  (09110) Avenida Jimenez                 859.0  \n",
       "7378                     (09000) Cabecera Usme                 790.0  \n",
       "136339                           (09118) Marly                 788.0  \n",
       "83817                         (09120) Calle 63                 759.0  \n",
       "...                                        ...                   ...  \n",
       "13905                       (10007) Las Nieves                  21.0  \n",
       "132541  (06000) Portal Eldorado - alimentacion                  21.0  \n",
       "24006                         (09119) Calle 57                  21.0  \n",
       "108459              (10000) Portal 20 de Julio                  21.0  \n",
       "19495                   (07105) MOVISTAR ARENA                  21.0  \n",
       "\n",
       "[542 rows x 3 columns]"
      ]
     },
     "execution_count": 156,
     "metadata": {},
     "output_type": "execute_result"
    }
   ],
   "source": [
    "top80pct"
   ]
  },
  {
   "cell_type": "markdown",
   "metadata": {},
   "source": [
    "## Define operators for matrix object"
   ]
  },
  {
   "cell_type": "code",
   "execution_count": null,
   "metadata": {},
   "outputs": [],
   "source": [
    "def pct_change(week_1, week_2):\n",
    "    ''' Calculates percentual chage between week one and week two'''\n",
    "    type_category = 2\n",
    "    days = 7 \n",
    "    strata = 2\n",
    "    \n",
    "    #Data validation \n",
    "    assert len(week_1) == type_category\n",
    "    assert len(week_2) == type_category\n",
    "    assert len(week_1[0]) == days\n",
    "    assert len(week_2[0]) == days\n",
    "    assert len(week_1[0][0]) == strata\n",
    "    assert len(week_2[0][0]) == strata\n",
    "    \n",
    "    category_pct = []\n",
    "    for category in type_category:\n",
    "        day_pct = []\n",
    "        for day in days:\n",
    "            stratum_pct = []\n",
    "            for stratum in strata: \n",
    "                \n",
    "                a = a.set_index(['origin', 'destination'])\n",
    "                b = b.set_index(['origin', 'destination'])\n",
    "                c = (a - b)/a\n",
    "                \n",
    "                week_1_t = week_1[category][day][stratum]['stratum_trasaction']\n",
    "                week_2_t = week_2[category][day][stratum]['stratum_trasaction']\n",
    "                pct_ = (week_1_t - week_2_t)/week_1_t\n",
    "                stratum_pct.append(pct_)\n",
    "            day_pct.append(stratum_pct)\n",
    "        category_pct.append(day_pct)\n",
    "    \n",
    "    return category_pct"
   ]
  },
  {
   "cell_type": "code",
   "execution_count": null,
   "metadata": {},
   "outputs": [],
   "source": [
    "bs_stratum_matrix[0][0][0]"
   ]
  },
  {
   "cell_type": "code",
   "execution_count": 46,
   "metadata": {},
   "outputs": [],
   "source": [
    "indeces_1 = [7485,  17779,  3599, 20221,   8901, 21019,\n",
    "             7936,  7952, 14603, 20140, 15526,  6177, 20684,  2341,   740,\n",
    "            16821, 14468]\n",
    "\n",
    "indeces_2 = [9774, 15228, 16755, 14786, 13463,\n",
    "            14966,  8185,   941,  9208, 13827, 15505,  8510, 10422, 11847,]"
   ]
  },
  {
   "cell_type": "code",
   "execution_count": 87,
   "metadata": {},
   "outputs": [],
   "source": [
    "a = bs_stratum_matrix[1][0][0]\n",
    "b = post_stratum_matrix[1][0][0]\n",
    "c = a.merge(b, on = ['origin', 'destination'] , how = 'outer').fillna(0)\n",
    "c['diff'] = c['stratum_transactions_y'] - c['stratum_transactions_x']\n",
    "c['change'] = c['diff']/c['stratum_transactions_x']\n",
    "# c.sort_values('stratum_transactions_x', ascending=False)\n",
    "d = c[c.stratum_transactions_x.between(500,26000)].sort_values('change', ascending=True).loc[indeces_2].head(10)"
   ]
  },
  {
   "cell_type": "code",
   "execution_count": 88,
   "metadata": {},
   "outputs": [
    {
     "data": {
      "text/html": [
       "<div>\n",
       "<style scoped>\n",
       "    .dataframe tbody tr th:only-of-type {\n",
       "        vertical-align: middle;\n",
       "    }\n",
       "\n",
       "    .dataframe tbody tr th {\n",
       "        vertical-align: top;\n",
       "    }\n",
       "\n",
       "    .dataframe thead th {\n",
       "        text-align: right;\n",
       "    }\n",
       "</style>\n",
       "<table border=\"1\" class=\"dataframe\">\n",
       "  <thead>\n",
       "    <tr style=\"text-align: right;\">\n",
       "      <th></th>\n",
       "      <th>origin</th>\n",
       "      <th>destination</th>\n",
       "      <th>stratum_transactions_x</th>\n",
       "      <th>stratum_transactions_y</th>\n",
       "      <th>diff</th>\n",
       "      <th>change</th>\n",
       "    </tr>\n",
       "  </thead>\n",
       "  <tbody>\n",
       "    <tr>\n",
       "      <th>9774</th>\n",
       "      <td>(03006) NIZA - CALLE 127</td>\n",
       "      <td>(03000) Portal Suba</td>\n",
       "      <td>586.642068</td>\n",
       "      <td>255.696000</td>\n",
       "      <td>-330.946068</td>\n",
       "      <td>-0.564136</td>\n",
       "    </tr>\n",
       "    <tr>\n",
       "      <th>15228</th>\n",
       "      <td>(02200) Alcalá</td>\n",
       "      <td>(09000) Cabecera Usme</td>\n",
       "      <td>527.000000</td>\n",
       "      <td>215.000000</td>\n",
       "      <td>-312.000000</td>\n",
       "      <td>-0.592030</td>\n",
       "    </tr>\n",
       "    <tr>\n",
       "      <th>16755</th>\n",
       "      <td>(02202) Calle 127</td>\n",
       "      <td>(07000) Portal Sur</td>\n",
       "      <td>543.877860</td>\n",
       "      <td>214.142875</td>\n",
       "      <td>-329.734986</td>\n",
       "      <td>-0.606267</td>\n",
       "    </tr>\n",
       "    <tr>\n",
       "      <th>14786</th>\n",
       "      <td>(12003) Ricaurte</td>\n",
       "      <td>(05000) Portal Américas</td>\n",
       "      <td>683.163231</td>\n",
       "      <td>250.144529</td>\n",
       "      <td>-433.018702</td>\n",
       "      <td>-0.633844</td>\n",
       "    </tr>\n",
       "    <tr>\n",
       "      <th>13463</th>\n",
       "      <td>(02202) Calle 127</td>\n",
       "      <td>(05000) Portal Américas</td>\n",
       "      <td>683.163231</td>\n",
       "      <td>241.712691</td>\n",
       "      <td>-441.450540</td>\n",
       "      <td>-0.646186</td>\n",
       "    </tr>\n",
       "    <tr>\n",
       "      <th>14966</th>\n",
       "      <td>(12002) CDS - Carrera 32</td>\n",
       "      <td>(05000) Portal Américas</td>\n",
       "      <td>620.182754</td>\n",
       "      <td>216.417177</td>\n",
       "      <td>-403.765577</td>\n",
       "      <td>-0.651043</td>\n",
       "    </tr>\n",
       "    <tr>\n",
       "      <th>8185</th>\n",
       "      <td>(09104) Restrepo</td>\n",
       "      <td>(09000) Cabecera Usme</td>\n",
       "      <td>796.000000</td>\n",
       "      <td>276.000000</td>\n",
       "      <td>-520.000000</td>\n",
       "      <td>-0.653266</td>\n",
       "    </tr>\n",
       "    <tr>\n",
       "      <th>941</th>\n",
       "      <td>(02200) Alcalá</td>\n",
       "      <td>(05000) Portal Américas</td>\n",
       "      <td>635.053144</td>\n",
       "      <td>220.164660</td>\n",
       "      <td>-414.888484</td>\n",
       "      <td>-0.653313</td>\n",
       "    </tr>\n",
       "    <tr>\n",
       "      <th>9208</th>\n",
       "      <td>(10006) San Victorino</td>\n",
       "      <td>(07000) Portal Sur</td>\n",
       "      <td>626.034637</td>\n",
       "      <td>215.957645</td>\n",
       "      <td>-410.076992</td>\n",
       "      <td>-0.655039</td>\n",
       "    </tr>\n",
       "    <tr>\n",
       "      <th>13827</th>\n",
       "      <td>(09110) Avenida Jimenez</td>\n",
       "      <td>(08000) Portal Tunal</td>\n",
       "      <td>623.278971</td>\n",
       "      <td>214.216327</td>\n",
       "      <td>-409.062644</td>\n",
       "      <td>-0.656307</td>\n",
       "    </tr>\n",
       "  </tbody>\n",
       "</table>\n",
       "</div>"
      ],
      "text/plain": [
       "                         origin              destination  \\\n",
       "9774   (03006) NIZA - CALLE 127      (03000) Portal Suba   \n",
       "15228            (02200) Alcalá    (09000) Cabecera Usme   \n",
       "16755         (02202) Calle 127       (07000) Portal Sur   \n",
       "14786          (12003) Ricaurte  (05000) Portal Américas   \n",
       "13463         (02202) Calle 127  (05000) Portal Américas   \n",
       "14966  (12002) CDS - Carrera 32  (05000) Portal Américas   \n",
       "8185           (09104) Restrepo    (09000) Cabecera Usme   \n",
       "941              (02200) Alcalá  (05000) Portal Américas   \n",
       "9208      (10006) San Victorino       (07000) Portal Sur   \n",
       "13827   (09110) Avenida Jimenez     (08000) Portal Tunal   \n",
       "\n",
       "       stratum_transactions_x  stratum_transactions_y        diff    change  \n",
       "9774               586.642068              255.696000 -330.946068 -0.564136  \n",
       "15228              527.000000              215.000000 -312.000000 -0.592030  \n",
       "16755              543.877860              214.142875 -329.734986 -0.606267  \n",
       "14786              683.163231              250.144529 -433.018702 -0.633844  \n",
       "13463              683.163231              241.712691 -441.450540 -0.646186  \n",
       "14966              620.182754              216.417177 -403.765577 -0.651043  \n",
       "8185               796.000000              276.000000 -520.000000 -0.653266  \n",
       "941                635.053144              220.164660 -414.888484 -0.653313  \n",
       "9208               626.034637              215.957645 -410.076992 -0.655039  \n",
       "13827              623.278971              214.216327 -409.062644 -0.656307  "
      ]
     },
     "execution_count": 88,
     "metadata": {},
     "output_type": "execute_result"
    }
   ],
   "source": [
    "d#.destination"
   ]
  },
  {
   "cell_type": "code",
   "execution_count": 15,
   "metadata": {},
   "outputs": [],
   "source": [
    "# Strata 1-2\n",
    "origin_000 = {7000:'origin',9000:1,10000:1,3000:1,5000:1}\n",
    "destinations_000 = {7111:2,2200:2,2202:2,12004:2,7103:2,2101:2,12007:2}\n",
    "\n",
    "origin_000 = {7000:'origin',9000:'origin',10000:'origin',3000:'origin',5000:'origin',\n",
    "              7111:'destination',2200:'destination',2202:'destination',12004:'destination',\n",
    "              7103:'destination',2101:'destination',12007:'destination'}\n",
    "\n",
    "origin_100 = [3006,2200,2202,12003,2202,12002,9104,2200,10006,9110]\n",
    "destinations_100 = [3000,9000,7000,5000,8000]\n",
    "\n",
    "# Strata 3-4\n",
    "origin_001 = [2200, 2104, 2000, 5100, 4000, 2101, 2200, 5100]\n",
    "destinations_001 = [9117, 2300, 14005, 6111, 9122, 14004]\n",
    "\n",
    "origin_101 = [14005, 6111, 9117, 9122, 9114, 14005, 9120]\n",
    "destinations_101 = [5100, 4000,2000,6000]"
   ]
  },
  {
   "cell_type": "code",
   "execution_count": 52,
   "metadata": {},
   "outputs": [],
   "source": [
    "#Plotting restuls the way I can for now \n",
    "import geopandas as gpd\n",
    "\n",
    "s_path = '/Users/juandavidcaicedocastro/Dropbox/01_berkeley/17_phd/08_results/catchment_areas/'\n",
    "\n",
    "stations = gpd.read_file(s_path  + 'catchment_areas.shp')\n",
    "\n",
    "# Localidades shapefiles\n",
    "lsoas_link = '/Users/juandavidcaicedocastro/Dropbox/01_berkeley/17_phd/07_notebooks/cp255/data/localidades_shp/Loca.shp'\n",
    "lsoas = gpd.read_file(lsoas_link)\n",
    "lsoas.drop(index = 8, inplace= True )"
   ]
  },
  {
   "cell_type": "code",
   "execution_count": 53,
   "metadata": {},
   "outputs": [],
   "source": [
    "origin_000 = [7000,9000,10000,3000,5000]\n",
    "destinations_000 = [7111,2200,2202,12004,7103,2101,12007]\n",
    "\n",
    "\n",
    "origin_100 = [3006,2200,2202,12003,2202,12002,9104,2200,10006,9110]\n",
    "destinations_100 = [3000,9000,7000,5000,8000]\n",
    "\n",
    "# Strata 3-4\n",
    "origin_001 = [2200, 2104, 2000, 5100, 4000, 2101, 2200, 5100]\n",
    "destinations_001 = [9117, 2300, 14005, 6111, 9122, 14004]\n",
    "\n",
    "origin_101 = [14005, 6111, 9117, 9122, 9114, 14005, 9120]\n",
    "destinations_101 = [5100, 4000,2000,6000]"
   ]
  },
  {
   "cell_type": "code",
   "execution_count": 77,
   "metadata": {},
   "outputs": [
    {
     "data": {
      "image/png": "[encoded data removed]",
      "text/plain": [
       "<Figure size 720x720 with 1 Axes>"
      ]
     },
     "metadata": {
      "needs_background": "light"
     },
     "output_type": "display_data"
    }
   ],
   "source": [
    "#Filtering\n",
    "stations['a'] = stations.recaudoest.isin(origin_000)*1\n",
    "stations['b'] = stations.recaudoest.isin(destinations_000)*2\n",
    "stations['ab'] = stations['a'] + stations['b']\n",
    "stations['ab'] = stations['ab'].replace({1:'origin', 2:'destination'})\n",
    "\n",
    "fig, ax = plt.subplots(figsize = (10,10))\n",
    "lsoas.plot(alpha=0.5, linewidth=1, ax=ax)\n",
    "stations[stations['ab'].isin(['origin','destination'])].plot(column = 'ab',ax=ax, legend = True,\n",
    "                                                            legend_kwds={'loc': 'upper left'},\n",
    "                                                            cmap = 'RdYlGn');\n",
    "\n",
    "ax.set_title('Home-work Trips');"
   ]
  },
  {
   "cell_type": "code",
   "execution_count": 76,
   "metadata": {},
   "outputs": [
    {
     "data": {
      "image/png": "[encoded data removed]",
      "text/plain": [
       "<Figure size 720x720 with 1 Axes>"
      ]
     },
     "metadata": {
      "needs_background": "light"
     },
     "output_type": "display_data"
    }
   ],
   "source": [
    "#Filtering\n",
    "stations['a'] = stations.recaudoest.isin(origin_100)*1\n",
    "stations['b'] = stations.recaudoest.isin(destinations_100)*2\n",
    "stations['ab'] = stations['a'] + stations['b']\n",
    "stations['ab'] = stations['ab'].replace({1:'origin', 2:'destination'})\n",
    "\n",
    "fig, ax = plt.subplots(figsize = (10,10))\n",
    "lsoas.plot(alpha=0.5, linewidth=1, ax=ax)\n",
    "stations[stations['ab'].isin(['origin','destination'])].plot(column = 'ab',ax=ax, legend = True,\n",
    "                                                            legend_kwds={'loc': 'upper left'},\n",
    "                                                            cmap = 'RdYlGn');\n",
    "ax.set_title('Work-home Trips');"
   ]
  },
  {
   "cell_type": "code",
   "execution_count": 79,
   "metadata": {},
   "outputs": [
    {
     "data": {
      "image/png": "[encoded data removed]",
      "text/plain": [
       "<Figure size 720x720 with 1 Axes>"
      ]
     },
     "metadata": {
      "needs_background": "light"
     },
     "output_type": "display_data"
    }
   ],
   "source": [
    "#Filtering\n",
    "stations['a'] = stations.recaudoest.isin(origin_001)*1\n",
    "stations['b'] = stations.recaudoest.isin(destinations_001)*2\n",
    "stations['ab'] = stations['a'] + stations['b']\n",
    "stations['ab'] = stations['ab'].replace({1:'origin', 2:'destination'})\n",
    "\n",
    "fig, ax = plt.subplots(figsize = (10,10))\n",
    "lsoas.plot(alpha=0.5, linewidth=1, ax=ax)\n",
    "stations[stations['ab'].isin(['origin','destination'])].plot(column = 'ab',ax=ax, legend = True,\n",
    "                                                            legend_kwds={'loc': 'upper left'},\n",
    "                                                            cmap = 'RdYlGn');\n",
    "ax.set_title('Home-Work Trips for Stratum 3 to 6');"
   ]
  },
  {
   "cell_type": "code",
   "execution_count": 80,
   "metadata": {},
   "outputs": [
    {
     "data": {
      "image/png": "[encoded data removed]",
      "text/plain": [
       "<Figure size 720x720 with 1 Axes>"
      ]
     },
     "metadata": {
      "needs_background": "light"
     },
     "output_type": "display_data"
    }
   ],
   "source": [
    "#Filtering\n",
    "stations['a'] = stations.recaudoest.isin(origin_101)*1\n",
    "stations['b'] = stations.recaudoest.isin(destinations_101)*2\n",
    "stations['ab'] = stations['a'] + stations['b']\n",
    "stations['ab'] = stations['ab'].replace({1:'origin', 2:'destination'})\n",
    "\n",
    "fig, ax = plt.subplots(figsize = (10,10))\n",
    "lsoas.plot(alpha=0.5, linewidth=1, ax=ax)\n",
    "stations[stations['ab'].isin(['origin','destination'])].plot(column = 'ab',ax=ax, legend = True,\n",
    "                                                            legend_kwds={'loc': 'upper left'},\n",
    "                                                            cmap = 'RdYlGn');\n",
    "ax.set_title('Work_home Trips for Stratum 3 to 6');"
   ]
  }
 ],
 "metadata": {
  "kernelspec": {
   "display_name": "Python 3",
   "language": "python",
   "name": "python3"
  },
  "language_info": {
   "codemirror_mode": {
    "name": "ipython",
    "version": 3
   },
   "file_extension": ".py",
   "mimetype": "text/x-python",
   "name": "python",
   "nbconvert_exporter": "python",
   "pygments_lexer": "ipython3",
   "version": "3.8.2"
  }
 },
 "nbformat": 4,
 "nbformat_minor": 4
}
